{
 "cells": [
  {
   "cell_type": "markdown",
   "metadata": {},
   "source": [
    "# Problem 2"
   ]
  },
  {
   "cell_type": "markdown",
   "metadata": {},
   "source": [
    "The code from e.m.waves-ramp was altered to have a step instead of a ramp.\n",
    "To change the ratio between the frequencies so that the density of the plasma is over-critical, and since the frequency of the laser omega0 is normalized with the plasma density, this frequency was changed for the various cases:\n",
    "\n",
    "$$\\omega_p/\\omega=a => omega0=1/a$$"
   ]
  },
  {
   "cell_type": "code",
   "execution_count": 32,
   "metadata": {},
   "outputs": [],
   "source": [
    "import em1d\n",
    "import numpy as np\n",
    "dt=0.028\n",
    "tmax=170.\n",
    "\n",
    "nx=8000\n",
    "box=225\n",
    "\n",
    "ndump=25\n",
    "#Set up a plasma ramp\n",
    "step_pos=180\n",
    "#ver particles.h\n",
    "density = em1d.Density( type = \"step\", start=step_pos)\n",
    "\n",
    "#create an electron plasma species\n",
    "sp_name=\"electrons\"\n",
    "ppc = 2 # Particles per cell\n",
    "electrons = em1d.Species( sp_name, -1.0, ppc,density=density)\n",
    "\n",
    "#initialize the arrays that will store the charge density and the field values\n",
    "charge=[]\n",
    "field=[]\n",
    "\n",
    "# Diagnostics - this function is called at each time step of the simulation\n",
    "def rep( sim ):\n",
    "    if ( sim.n % ndump == 0 ):\n",
    "        # Z component of electric field \n",
    "        field.append(np.array(sim.emf.Ez))\n",
    "        \n",
    "        # Charge density\n",
    "        charge.append(np.array(electrons.charge()))\n",
    "\n",
    "# Initialize simulation data\n",
    "sim = em1d.Simulation( nx, box, dt, species=electrons, report = rep )\n",
    "\n",
    "# Add laser pulse\n",
    "sim.add_laser( em1d.Laser( start = 175.0, fall = 5.0,flat=145,rise=25, a0 = 0.000001, omega0 = 2, polarization = np.pi/2 ))\n",
    "\n",
    "# Select open boundary conditions\n",
    "sim.emf.bc_type = \"open\""
   ]
  },
  {
   "cell_type": "code",
   "execution_count": 33,
   "metadata": {},
   "outputs": [
    {
     "name": "stdout",
     "output_type": "stream",
     "text": [
      "\n",
      "Running simulation up to t = 170 ...\n",
      "n = 6072, t = 170.016\n",
      "Done.\n"
     ]
    }
   ],
   "source": [
    "# Run the simulation\n",
    "sim.run( tmax )"
   ]
  },
  {
   "cell_type": "code",
   "execution_count": 34,
   "metadata": {},
   "outputs": [
    {
     "data": {
      "application/vnd.jupyter.widget-view+json": {
       "model_id": "713c722799424dbab2113b7a37feec20",
       "version_major": 2,
       "version_minor": 0
      },
      "text/plain": [
       "interactive(children=(IntSlider(value=121, description='it', max=243), Output()), _dom_classes=('widget-intera…"
      ]
     },
     "metadata": {},
     "output_type": "display_data"
    },
    {
     "data": {
      "text/plain": [
       "<matplotlib.figure.Figure at 0x7f6771390ac8>"
      ]
     },
     "metadata": {},
     "output_type": "display_data"
    }
   ],
   "source": [
    "import matplotlib.pyplot as plt\n",
    "import matplotlib.patches as patches\n",
    "from ipywidgets import interactive, widgets, fixed\n",
    "\n",
    "#create the x dimension array\n",
    "x=np.linspace(0,box,nx)\n",
    "\n",
    "fig=plt.figure()\n",
    "def f(it):      #this function is called everytime the slider is updated  \n",
    "    ax=plt.gca()\n",
    "    #plot the field\n",
    "    ax.plot(x, field[it])\n",
    "    ax.set_xlabel(\"$x_1\\;[c/\\omega_p]$\")\n",
    "    ax.set_ylabel(\"$E_3\\;[m_e c \\\\omega_p e^{-1}]$\")\n",
    "    \n",
    "    ax2=ax.twinx()\n",
    "    #plot the electron density\n",
    "    ax2.plot(x, -charge[it],c=\"C1\")\n",
    "    ax2.set_ylabel(\"$density\\;[n_0]$\")\n",
    "    \n",
    "    #update the horizontal limits of the plot by changing the following line\n",
    "    ax2.set_xlim([100,250])\n",
    "    ax.grid()\n",
    "    ax.set_title(\"Iteration: {} /\".format(it*ndump)+\"Time: {:.4}[$1/\\omega_p$] \".format(it*ndump*dt))\n",
    "\n",
    "interactive_plot = interactive(f, it=(0, len(charge)))\n",
    "\n",
    "interactive_plot"
   ]
  },
  {
   "cell_type": "markdown",
   "metadata": {},
   "source": [
    "The E field for x>180 is given by:\n",
    "$$E=E_0e^{-kz}\\cos{\\left(\\omega t+\\phi_t\\right)}$$\n",
    "For a fixed t, the points  where ffitted to the following function:\n",
    "$$E=Ee^{-kz}$$\n",
    "With this units:\n",
    "$$k=\\frac{\\omega_p \\beta}{c}$$"
   ]
  },
  {
   "cell_type": "code",
   "execution_count": 35,
   "metadata": {},
   "outputs": [],
   "source": [
    "def Emfun(x, beta, L,E0):\n",
    "    y=np.zeros(len(x))\n",
    "    for i, xi in enumerate(x):\n",
    "            y[i] = E0*np.exp(-beta*(xi-L))\n",
    "    return y"
   ]
  },
  {
   "cell_type": "code",
   "execution_count": 36,
   "metadata": {},
   "outputs": [
    {
     "data": {
      "application/vnd.jupyter.widget-view+json": {
       "model_id": "45214e8ce40b48c39d966d19fa87206f",
       "version_major": 2,
       "version_minor": 0
      },
      "text/plain": [
       "interactive(children=(FloatSlider(value=202.5112514064258, description='x-axis limit:', max=225.0, min=180.022…"
      ]
     },
     "metadata": {},
     "output_type": "display_data"
    }
   ],
   "source": [
    "#select the data that is currently plotted in the cells above\n",
    "chrg_data=charge[interactive_plot.children[0].value]\n",
    "emf_data =field[interactive_plot.children[0].value]\n",
    "\n",
    "#find the position in the x-array where the ramp starts\n",
    "itl=int(step_pos/box*nx)\n",
    "xmin=x[itl]\n",
    "\n",
    "xmax=box\n",
    "\n",
    "#create the 3 sliders that control the selection of the transition region\n",
    "sldr1=widgets.FloatSlider(value=(xmin+xmax)/2,min=xmin,max=xmax,orientation='horizontal',description='x-axis limit:')        \n",
    "sldr2=widgets.FloatSlider(value=(xmin+sldr1.value)/2,min=xmin,max=sldr1.value,orientation='horizontal',description='turning point:')\n",
    "sldr3=widgets.FloatSlider(value=(xmax-xmin)/nx*5,min=(xmax-xmin)/(nx-int(step_pos/box*nx)),max=(xmax-xmin)/10,orientation='horizontal',description='bar witdh:')\n",
    "\n",
    "\n",
    "def regselect(maxx,itr,w,emf_data,datav,sldr): #this function is called everytime the sliders are moved  \n",
    "    sldr.max=maxx\n",
    "                    \n",
    "    fig=plt.figure();\n",
    "    plt.grid(alpha=0.6,linestyle='dashed')\n",
    "    ax1=plt.gca()\n",
    "    #plot the field values\n",
    "    ax1.plot(x,emf_data,'.',c=\"darkorange\");    \n",
    "    ax1.set_xlim([xmin,maxx])\n",
    "    ax1.set_xlabel(\"$x_1\\;[c/\\omega_p]$\")\n",
    "    ax1.set_ylabel(\"$E_3\\;[m_e c \\\\omega_p e^{-1}]$\")\n",
    "    \n",
    "    #plot the trasition region: a vertical line surrounded by a blue rectangle\n",
    "    plt.axvline(x=itr,color='k')\n",
    "    ymin=min(emf_data)\n",
    "    ymax=max(emf_data)\n",
    "    ylimin=ymin-(ymax-ymin)/10\n",
    "    ylimax=ymax+(ymax-ymin)/10\n",
    "    ax1.add_patch(patches.Rectangle((itr-w/2, ylimin),w,ylimax-ylimin,alpha=0.5))\n",
    "    ax1.set_ylim([ylimin,ylimax])\n",
    "    \n",
    "    plt.show()\n",
    "\n",
    "reg_selection=interactive(regselect,maxx=sldr1,itr=sldr2,w=sldr3,emf_data=fixed(emf_data),datav=fixed([]),sldr=fixed(sldr2))\n",
    "reg_selection"
   ]
  },
  {
   "cell_type": "code",
   "execution_count": 37,
   "metadata": {},
   "outputs": [],
   "source": [
    "#Create new data arrays without the data points in the transition region.\n",
    "\n",
    "#upper bound of the data\n",
    "itu=int((reg_selection.children[0].value)/box*nx)\n",
    "#turning point\n",
    "center=reg_selection.children[1].value\n",
    "#transition region width\n",
    "w=reg_selection.children[2].value\n",
    "\n",
    "#lower transition region bound\n",
    "itll=int((center-w/2)/box*nx)\n",
    "#upper transition region bound\n",
    "ituu=int((center+w/2)/box*nx)\n",
    "\n",
    "#new x array\n",
    "nxx=x[itl:itll]-xmin\n",
    "nxx=np.append(nxx,x[ituu:itu]-xmin)\n",
    "\n",
    "#new data array\n",
    "ndata=emf_data[itl:itll]\n",
    "ndata=np.append(ndata,emf_data[ituu:itu])"
   ]
  },
  {
   "cell_type": "code",
   "execution_count": 39,
   "metadata": {},
   "outputs": [
    {
     "data": {
      "application/vnd.jupyter.widget-view+json": {
       "model_id": "222a3df9ef084737a1413bcecc5fc0c5",
       "version_major": 2,
       "version_minor": 0
      },
      "text/plain": [
       "VBox(children=(FloatText(value=1.0, description='$\\\\left(kc/\\\\omega_p \\\\right)$:'), FloatText(value=1.0, descr…"
      ]
     },
     "metadata": {},
     "output_type": "display_data"
    }
   ],
   "source": [
    "a = widgets.FloatText(value=1,description=r'$\\left(kc/\\omega_p \\right)$:')\n",
    "b = widgets.FloatText(value=1,description='$L$:')\n",
    "c = widgets.FloatText(value=1,description='$E_0$:')\n",
    "ret=(widgets.VBox([a,b,c]),[a,b,c])\n",
    "ret[0]"
   ]
  },
  {
   "cell_type": "code",
   "execution_count": 13,
   "metadata": {},
   "outputs": [
    {
     "data": {
      "image/png": "[encoded data removed]",
      "text/plain": [
       "<matplotlib.figure.Figure at 0x7f52decc70f0>"
      ]
     },
     "metadata": {
      "needs_background": "light"
     },
     "output_type": "display_data"
    }
   ],
   "source": [
    "from scipy.optimize import curve_fit\n",
    "\n",
    "fig=plt.figure();\n",
    "plt.grid(alpha=0.6,linestyle='dashed')\n",
    "ax1=plt.gca()\n",
    "ax1.set_xlabel(\"$x_1-x_{tp}\\;[c/\\omega_p]$\")\n",
    "ax1.set_ylabel(\"$E_3\\;[]$\")\n",
    "\n",
    "#retrieve the parameters from the upper boxes\n",
    "param=ret[1]\n",
    "par=[i.value for i in param]\n",
    "#actually fit the data\n",
    "popt, pcov = curve_fit(Emfun, nxx, ndata,p0=par)\n",
    "\n",
    "#plot the original data points\n",
    "ax1.plot(nxx-popt[1],ndata,'.',c=\"dodgerblue\",ms=10,label=\"$E_3$\");\n",
    "\n",
    "\n",
    "#upate the parameters in the boxes\n",
    "for i,b in enumerate(popt):\n",
    "    param[i].value=b\n",
    "\n",
    "ax1.plot(nxx-popt[1], Emfun(nxx, *popt), '-',c=\"darkviolet\", label='fit')[0]\n",
    "\n",
    "plt.legend()\n",
    "plt.show()    "
   ]
  },
  {
   "cell_type": "markdown",
   "metadata": {},
   "source": [
    "Fit's Results:"
   ]
  },
  {
   "cell_type": "code",
   "execution_count": 4,
   "metadata": {},
   "outputs": [],
   "source": [
    "betasf=[0.4853,0.8687,0.9421,0.9688,0.9808,0.9854]"
   ]
  },
  {
   "cell_type": "markdown",
   "metadata": {},
   "source": [
    "From the previous questions, the dispersion relation is given by:\n",
    "$$\\omega^2=\\omega_p^2-k^2c^2$$\n",
    "$$ =>{ \\left( \\frac{\\omega}{\\omega_p} \\right) }^2 = 1 - {\\left( \\frac{kc}{\\omega_p} \\right) }^2 $$\n",
    "\n",
    "$$=> \\beta^2=1-{ \\left( \\frac{\\omega}{\\omega_p} \\right) }^2$$"
   ]
  },
  {
   "cell_type": "code",
   "execution_count": 5,
   "metadata": {},
   "outputs": [],
   "source": [
    "betast=[np.sqrt(1-1/(i*i)) for i in range(1,6) ]\n",
    "#print(betae)"
   ]
  },
  {
   "cell_type": "code",
   "execution_count": 6,
   "metadata": {},
   "outputs": [
    {
     "name": "stdout",
     "output_type": "stream",
     "text": [
      "0.4853\n",
      "0.0027\n",
      "0.0007\n",
      "0.0006\n",
      "0.0010\n"
     ]
    }
   ],
   "source": [
    "err=[np.abs(betast[i]-betasf[i]) for i in range(0,5)]\n",
    "for i in range(0,5):\n",
    "    print(\"{0:.4f}\".format(err[i]))"
   ]
  },
  {
   "cell_type": "code",
   "execution_count": 30,
   "metadata": {},
   "outputs": [
    {
     "data": {
      "text/plain": [
       "Text(0.5,0,'$ kc/ \\\\omega_p $')"
      ]
     },
     "execution_count": 30,
     "metadata": {},
     "output_type": "execute_result"
    },
    {
     "data": {
      "image/png": "[encoded data removed]",
      "text/plain": [
       "<matplotlib.figure.Figure at 0x7f677142a748>"
      ]
     },
     "metadata": {},
     "output_type": "display_data"
    }
   ],
   "source": [
    "import numpy as np\n",
    "import math\n",
    "from matplotlib.pyplot import figure, show\n",
    "from numpy import arange\n",
    "\n",
    "beta = arange(0.0, 1.0, 0.01)\n",
    "\n",
    "fig = figure(num=None, figsize=(8, 6), dpi=80, facecolor='w', edgecolor='k')\n",
    "ax1 = fig.add_subplot(211)\n",
    "ax1.plot(beta, np.sqrt(1-beta*beta))\n",
    "ax1.scatter(betasf,[1,1/(2*2),1/(3*3),1/(4*4),1/(5*5),1/(6*6)])\n",
    "ax1.grid(True)\n",
    "ax1.set_ylim((-1, 2))\n",
    "ax1.set_ylabel('$\\omega/\\omega_p$')\n",
    "ax1.set_xlabel('$ kc/ \\omega_p $')"
   ]
  },
  {
   "cell_type": "markdown",
   "metadata": {},
   "source": [
    "For when the density is equal to the critical density k should be zero so we did not not expect the model to work.\n",
    "\n",
    "For the other values, k appears to be lower than expected this might be due to the fact that in the theoretical prediction."
   ]
  },
  {
   "cell_type": "code",
   "execution_count": null,
   "metadata": {},
   "outputs": [],
   "source": []
  }
 ],
 "metadata": {
  "kernelspec": {
   "display_name": "Python 3",
   "language": "python",
   "name": "python3"
  },
  "language_info": {
   "codemirror_mode": {
    "name": "ipython",
    "version": 3
   },
   "file_extension": ".py",
   "mimetype": "text/x-python",
   "name": "python",
   "nbconvert_exporter": "python",
   "pygments_lexer": "ipython3",
   "version": "3.7.1"
  }
 },
 "nbformat": 4,
 "nbformat_minor": 2
}
